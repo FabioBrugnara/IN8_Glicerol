{
 "cells": [
  {
   "cell_type": "code",
   "execution_count": 2,
   "metadata": {},
   "outputs": [],
   "source": [
    "from datetime import timedelta, datetime"
   ]
  },
  {
   "cell_type": "markdown",
   "metadata": {},
   "source": [
    "| Monitor | Q | tempo [ore-minuti] | tempo [ore] | flusso a M1 \n",
    "|---------|---|--------------------|--------------|------------\n",
    "| 5000    | .5| 1:01               | 1.00         | tempo calcolato con 65\n",
    "| 5000    | .7| 1:33               | 1.55         | 65\n",
    "| 5000    | .9| 2:00               | 2.00         | 64\n",
    "| 5000    |1.1| 2:33               | 2.55         | 63\n",
    "| 5000    |1.5| 3:00               | 3.00         | 63"
   ]
  },
  {
   "cell_type": "code",
   "execution_count": 3,
   "metadata": {},
   "outputs": [
    {
     "name": "stdout",
     "output_type": "stream",
     "text": [
      "after Scans and quasi elastic at 300K:  2024-06-10 12:27:36\n"
     ]
    }
   ],
   "source": [
    "delta_quasi_elastico = timedelta(hours=4.3)\n",
    "deltaSq = timedelta(minutes=26)\n",
    "delta_conf_1 = timedelta(hours=40.4)\n",
    "delta_T_change = timedelta(hours=1)\n",
    "\n",
    "delta_missing = timedelta(hours=3*4*.9 + 1*4*.9)\n",
    "\n",
    "delta_cadmium = timedelta(hours=10)\n",
    "\n",
    "\n",
    "\n",
    "START = datetime(day=9, hour=14, minute=00, year=2024, month=6)\n",
    "now = START\n",
    "\n",
    "now += delta_conf_1*0.4 + delta_quasi_elastico + timedelta(hours=2)\n",
    "print('after Scans and quasi elastic at 300K: ',now)\n"
   ]
  }
 ],
 "metadata": {
  "kernelspec": {
   "display_name": "sci_env",
   "language": "python",
   "name": "python3"
  },
  "language_info": {
   "codemirror_mode": {
    "name": "ipython",
    "version": 3
   },
   "file_extension": ".py",
   "mimetype": "text/x-python",
   "name": "python",
   "nbconvert_exporter": "python",
   "pygments_lexer": "ipython3",
   "version": "3.11.5"
  },
  "orig_nbformat": 4
 },
 "nbformat": 4,
 "nbformat_minor": 2
}
