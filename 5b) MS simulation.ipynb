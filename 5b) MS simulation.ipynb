{
 "cells": [
  {
   "cell_type": "code",
   "execution_count": 28,
   "metadata": {},
   "outputs": [],
   "source": [
    "# IMPORT SCIENTIFIC LIBRARIES\n",
    "import numpy as np\n",
    "import pandas as pd\n",
    "import matplotlib.pyplot as plt\n",
    "plt.rcParams['font.size'], plt.rcParams['axes.labelsize'] = 14, 18\n",
    "\n",
    "from scipy.ndimage import gaussian_filter1d\n",
    "\n",
    "from neutronMS import MS_sim, GEN_constQgeom, E2k, k2E, Q2theta\n",
    "\n",
    "from IPython.display import clear_output\n",
    "\n",
    "from IN8_read_data import gen_data_df_specJun24\n",
    "from alias import *"
   ]
  },
  {
   "cell_type": "markdown",
   "metadata": {},
   "source": [
    "## Load experimental geometry, $\\mu_s$ and $\\mu_abs$, and the $S(Q,\\omega)$ data"
   ]
  },
  {
   "cell_type": "markdown",
   "metadata": {},
   "source": [
    "### Experimental geometry"
   ]
  },
  {
   "cell_type": "code",
   "execution_count": 29,
   "metadata": {},
   "outputs": [],
   "source": [
    "kf = 5.8"
   ]
  },
  {
   "cell_type": "code",
   "execution_count": 30,
   "metadata": {},
   "outputs": [],
   "source": [
    "geom = ('anular', 1, 1.2, 6)\n",
    "\n",
    "from numpy.random import rand\n",
    "def ngen4rect_beam(N):\n",
    "    dy_beam= geom[2]\n",
    "    dz_beam=6\n",
    "    x_init = -100\n",
    "    return np.array([[x_init]*N, rand(N) * dy_beam - dy_beam/2, rand(N) * dz_beam - dz_beam/2]).T\n",
    "\n",
    "from cross_sections import mu\n",
    "\n",
    "###########\n",
    "T = 300\n",
    "###########\n",
    "\n",
    "mu_s = lambda E: mu['gly'](E,T)\n",
    "mu_abs = 0"
   ]
  },
  {
   "cell_type": "markdown",
   "metadata": {},
   "source": [
    "### S(Q,$\\omega$)"
   ]
  },
  {
   "cell_type": "code",
   "execution_count": 31,
   "metadata": {},
   "outputs": [],
   "source": [
    "Qi_file = './data/MSdata/Sqw/Q_vec.npy'\n",
    "omegaj_file = './data/MSdata/Sqw/omega_vec.npy'\n",
    "Sij_file = {}\n",
    "for T in [160,200,300]:\n",
    "    Sij_file[T] = './data/MSdata/Sqw/Sqw_'+str(T)+'K.npy'"
   ]
  },
  {
   "cell_type": "code",
   "execution_count": 32,
   "metadata": {},
   "outputs": [
    {
     "data": {
      "text/plain": [
       "Text(0.5, 1.0, 'S(Q, $\\\\omega$) at 300K')"
      ]
     },
     "execution_count": 32,
     "metadata": {},
     "output_type": "execute_result"
    }
   ],
   "source": [
    "### Plot an example of S(Q, omega) at T\n",
    "\n",
    "S_mash = np.load(Sij_file[T])\n",
    "Qi = np.load(Qi_file)\n",
    "omegaj = np.load(omegaj_file)\n",
    "\n",
    "plt.figure(figsize=(10, 5))\n",
    "plt.imshow(S_mash, aspect='auto',  extent=[omegaj[0], omegaj[-1], Qi[-1], Qi[0]], norm='log')\n",
    "plt.ylabel('Q ($\\\\AA^{-1}$)')\n",
    "plt.xlabel('$\\\\omega$ (meV)')\n",
    "plt.title('S(Q, $\\\\omega$) at '+str(T)+'K')"
   ]
  },
  {
   "cell_type": "markdown",
   "metadata": {},
   "source": [
    "## Fixed $k_i$, $k_f$ and $\\theta$ neutron story"
   ]
  },
  {
   "cell_type": "code",
   "execution_count": 33,
   "metadata": {},
   "outputs": [
    {
     "name": "stdout",
     "output_type": "stream",
     "text": [
      "ki = 5.8\n",
      "theta = 0.17262806300607647 rad\n"
     ]
    }
   ],
   "source": [
    "############### INPUTS ###############\n",
    "T = 300\n",
    "Q = 1\n",
    "omega = 0\n",
    "######################################\n",
    "\n",
    "# create inputs\n",
    "S_files = (Sij_file[T], Qi_file, omegaj_file)\n",
    "mus=(lambda E: mu['gly'](E,T), mu_abs)\n",
    "ki = E2k(omega+k2E(kf))\n",
    "theta = Q2theta(omega, kf, Q)\n",
    "\n",
    "print('ki =', ki)\n",
    "print('theta =', theta, 'rad')"
   ]
  },
  {
   "cell_type": "code",
   "execution_count": 34,
   "metadata": {},
   "outputs": [
    {
     "name": "stdout",
     "output_type": "stream",
     "text": [
      "Is = 2.2032854092010257e-08\n",
      "Im/Is = 0.013193311378948603\n",
      "T_self =  0.7388187535565929\n"
     ]
    }
   ],
   "source": [
    "# RUN the simulation\n",
    "sim = MS_sim(geom, mus, S_files, ki, kf, theta)\n",
    "sim.run(N=100000, B=5)\n",
    "print('Is =', sim.Is)\n",
    "print('Im/Is =', sim.Im/sim.Is)\n",
    "print('T_self = ', sim.T_self)"
   ]
  },
  {
   "cell_type": "code",
   "execution_count": 35,
   "metadata": {},
   "outputs": [],
   "source": [
    "plt.figure(figsize=(10, 5))\n",
    "plt.subplot(121)\n",
    "plt.hist2d(sim.p1[:,0], sim.p1[:,1], bins=100, weights=sim.w1)\n",
    "plt.xlabel('x [cm]')\n",
    "plt.ylabel('y [cm]')\n",
    "plt.subplot(122)\n",
    "plt.hist2d(sim.p2[:,0], sim.p2[:,1], bins=100, weights=sim.w2)\n",
    "plt.xlabel('x [cm]')\n",
    "plt.ylabel('y [cm]')\n",
    "plt.tight_layout()\n",
    "\n",
    "plt.figure(figsize=(18, 5))\n",
    "plt.subplot(141)\n",
    "plt.hist2d(sim.theta1m, sim.omega1m, weights=sim.wfm, norm='log', bins=100);\n",
    "plt.xlabel('theta_1m [rad]')\n",
    "plt.ylabel('omega_1m [meV]')\n",
    "plt.subplot(142)\n",
    "plt.hist(sim.theta1m, weights=sim.wfm, bins=200);\n",
    "plt.xlabel('theta_1m [rad]')\n",
    "plt.subplot(143)\n",
    "plt.hist2d(sim.theta2m, sim.omega2m, weights=sim.wfm, norm='log', bins=100);\n",
    "plt.xlabel('theta_2m [rad]')\n",
    "plt.ylabel('omega_2m [meV]')\n",
    "plt.subplot(144)\n",
    "plt.hist(sim.theta2m, weights=sim.wfm, bins=200);\n",
    "plt.xlabel('theta_2m [rad]')\n",
    "plt.tight_layout()\n"
   ]
  },
  {
   "cell_type": "markdown",
   "metadata": {},
   "source": [
    "## Constant Q multiple scattering spectrum"
   ]
  },
  {
   "cell_type": "code",
   "execution_count": 36,
   "metadata": {},
   "outputs": [],
   "source": [
    "############### INPUTS ###############\n",
    "T = 300\n",
    "Q = 0.5\n",
    "######################################\n",
    "\n",
    "# create inputs\n",
    "omega = np.arange(-40, 40, 0.1)\n",
    "S_files = (Sij_file[T], Qi_file, omegaj_file)\n",
    "mus=(lambda E: mu['gly'](E,T), mu_abs)\n",
    "\n",
    "# generate dataframe with the configuration\n",
    "dataMS = GEN_constQgeom('inverse', ki, Q, omega)\n",
    "dataMS.dropna(inplace=True)\n",
    "dataMS.reset_index(drop=True, inplace=True)"
   ]
  },
  {
   "cell_type": "code",
   "execution_count": 37,
   "metadata": {},
   "outputs": [
    {
     "name": "stdout",
     "output_type": "stream",
     "text": [
      "point 240 / 240\n",
      "simulating Q = 0.5A, E = 12.5meV .....\n"
     ]
    }
   ],
   "source": [
    "# drop raws with nan values\n",
    "dataMS = dataMS.dropna()\n",
    "for i in dataMS.index:\n",
    "    # print progress\n",
    "    clear_output()\n",
    "    print('point', i+1, '/', dataMS.shape[0])\n",
    "    print('simulating Q =', str(Q)+'A, E =', str(round(dataMS.loc[i, 'omega'], 3))+'meV .....')\n",
    "\n",
    "    # create simulation and run\n",
    "    sim = MS_sim(geom, mus, S_files, dataMS.ki.loc[i], dataMS.kf.loc[i], dataMS.theta.loc[i])\n",
    "    sim.run(N=10000, B=5)\n",
    "\n",
    "    # save results\n",
    "    dataMS.loc[i,'Is'] = sim.Is\n",
    "    dataMS.loc[i,'Im'] = sim.Im\n",
    "    dataMS.loc[i,'T_self'] = sim.T_self"
   ]
  },
  {
   "cell_type": "code",
   "execution_count": 38,
   "metadata": {},
   "outputs": [
    {
     "data": {
      "text/plain": [
       "Text(0, 0.5, 'T_self')"
      ]
     },
     "execution_count": 38,
     "metadata": {},
     "output_type": "execute_result"
    }
   ],
   "source": [
    "plt.figure(figsize=(10, 5))\n",
    "plt.plot(dataMS.omega, dataMS.Im/dataMS.Is.max(), label='$I_m$')\n",
    "plt.plot(dataMS.omega, dataMS.Is/dataMS.Is.max(), label='$I_s$')\n",
    "plt.xlabel('omega [meV]')\n",
    "plt.legend()\n",
    "\n",
    "plt.figure(figsize=(10, 5))\n",
    "plt.plot(dataMS.omega, dataMS.Im/(dataMS.Is+dataMS.Im))\n",
    "plt.xlabel('omega [meV]')\n",
    "plt.ylabel('Im/(Is+Im)')\n",
    "\n",
    "plt.ylim(0, 1)\n",
    "\n",
    "plt.figure(figsize=(10, 5))\n",
    "plt.plot(dataMS.omega, dataMS.T_self)\n",
    "plt.xlabel('omega [meV]')\n",
    "plt.ylabel('T_self')\n",
    "\n",
    "#plt.ylim(0, 1)"
   ]
  },
  {
   "cell_type": "markdown",
   "metadata": {},
   "source": [
    "## Multiple Q multiple scattering"
   ]
  },
  {
   "cell_type": "code",
   "execution_count": 39,
   "metadata": {},
   "outputs": [],
   "source": [
    "Q = [.5, .7, .9, 1.1, 1.5]\n",
    "\n",
    "MSdata = {}\n",
    "for T in [160, 200, 300]:\n",
    "    MSdata[T] = pd.concat([GEN_constQgeom('direct', ki, q, np.arange(-40, 40, 0.1)) for q in Q])\n",
    "    MSdata[T].dropna(inplace=True)\n",
    "    MSdata[T].reset_index(drop=True, inplace=True)"
   ]
  },
  {
   "cell_type": "code",
   "execution_count": 40,
   "metadata": {},
   "outputs": [],
   "source": [
    "aut = input('Are you shure you whant to rerun the entire simulation (type yes)?')\n",
    "if aut=='yes':\n",
    "    for T in [160, 200, 300]:\n",
    "        mus=(lambda E: mu['gly'](E,T), mu_abs)\n",
    "        S_files = (Sij_file[T], Qi_file, omegaj_file)\n",
    "\n",
    "        for i in MSdata[T].index:\n",
    "            # print progress\n",
    "            clear_output()\n",
    "            print('T =', T, 'K', 'of', [160, 200, 300])\n",
    "            print('point', i+1, '/', MSdata[T].shape[0])\n",
    "            print('simulating Q =', str(MSdata[T].loc[i].Q)+'A, E =', str(round(MSdata[T].loc[i].omega, 3))+'meV .....')\n",
    "\n",
    "            # create simulation and run\n",
    "            sim = MS_sim(geom, mus, S_files, MSdata[T].ki.loc[i], MSdata[T].kf.loc[i], MSdata[T].theta.loc[i])\n",
    "            sim.run(N=10000, B=5)\n",
    "\n",
    "\n",
    "            # save results\n",
    "            MSdata[T].loc[i,'Is'] = sim.Is\n",
    "            MSdata[T].loc[i,'Im'] = sim.Im\n",
    "            MSdata[T].loc[i,'T_self'] = sim.T_self\n",
    "\n",
    "        MSdata[T].to_csv('./data/MSdata/simdata/simdata_'+str(T)+'K.csv', index=False)"
   ]
  },
  {
   "cell_type": "markdown",
   "metadata": {},
   "source": [
    "## Comparison with test models"
   ]
  },
  {
   "cell_type": "code",
   "execution_count": 41,
   "metadata": {},
   "outputs": [],
   "source": [
    "T = 300\n",
    "Sij_file_test1 = {}\n",
    "Sij_file_test1[T] = './data/MSdata/Sqw/Sqw_'+str(T)+'K_test1.npy'\n",
    "\n",
    "Sij_file_test2 = {}\n",
    "Sij_file_test2[T] = './data/MSdata/Sqw/Sqw_'+str(T)+'K_test2.npy'\n",
    "\n",
    "Sij_file_test3 = {}\n",
    "Sij_file_test3[T] = './data/MSdata/Sqw/Sqw_'+str(T)+'K_test3.npy'\n",
    "\n",
    "Sij_file_test4 = {}\n",
    "Sij_file_test4[T] = './data/MSdata/Sqw/Sqw_'+str(T)+'K_test4.npy'"
   ]
  },
  {
   "cell_type": "code",
   "execution_count": 42,
   "metadata": {},
   "outputs": [],
   "source": [
    "############### INPUTS ###############\n",
    "T = 300\n",
    "Q = 1.1\n",
    "######################################\n",
    "\n",
    "# create inputs\n",
    "omega = np.arange(-30,30,1)\n",
    "mus=(lambda E: mu['gly'](E,T), mu_abs)"
   ]
  },
  {
   "cell_type": "code",
   "execution_count": 43,
   "metadata": {},
   "outputs": [],
   "source": [
    "S_files = (Sij_file[T], Qi_file, omegaj_file)\n",
    "dataMS = GEN_constQgeom('inverse', kf, Q, omega)\n",
    "dataMS.dropna(inplace=True)\n",
    "dataMS.reset_index(drop=True, inplace=True)"
   ]
  },
  {
   "cell_type": "code",
   "execution_count": 44,
   "metadata": {},
   "outputs": [],
   "source": [
    "S_files_test1 = (Sij_file_test1[T], Qi_file, omegaj_file)\n",
    "dataMS_test1 = GEN_constQgeom('inverse', kf, Q, omega)\n",
    "dataMS_test1.dropna(inplace=True)\n",
    "dataMS_test1.reset_index(drop=True, inplace=True)"
   ]
  },
  {
   "cell_type": "code",
   "execution_count": 45,
   "metadata": {},
   "outputs": [],
   "source": [
    "S_files_test2 = (Sij_file_test2[T], Qi_file, omegaj_file)\n",
    "dataMS_test2 = GEN_constQgeom('inverse', kf, Q, omega)\n",
    "dataMS_test2.dropna(inplace=True)\n",
    "dataMS_test2.reset_index(drop=True, inplace=True)"
   ]
  },
  {
   "cell_type": "code",
   "execution_count": 46,
   "metadata": {},
   "outputs": [],
   "source": [
    "S_files_test3 = (Sij_file_test3[T], Qi_file, omegaj_file)\n",
    "dataMS_test3 = GEN_constQgeom('inverse', kf, Q, omega)\n",
    "dataMS_test3.dropna(inplace=True)\n",
    "dataMS_test3.reset_index(drop=True, inplace=True)"
   ]
  },
  {
   "cell_type": "code",
   "execution_count": 47,
   "metadata": {},
   "outputs": [],
   "source": [
    "S_files_test4 = (Sij_file_test4[T], Qi_file, omegaj_file)\n",
    "dataMS_test4 = GEN_constQgeom('inverse', kf, Q, omega)\n",
    "dataMS_test4.dropna(inplace=True)\n",
    "dataMS_test4.reset_index(drop=True, inplace=True)"
   ]
  },
  {
   "cell_type": "code",
   "execution_count": 48,
   "metadata": {},
   "outputs": [
    {
     "name": "stdout",
     "output_type": "stream",
     "text": [
      "point 52 / 52\n",
      "simulating Q = 1.1A, E = 28meV .....\n"
     ]
    }
   ],
   "source": [
    "for i in dataMS.index:\n",
    "    # print progress\n",
    "    clear_output()\n",
    "    print('point', i+1, '/', dataMS.shape[0])\n",
    "    print('simulating Q =', str(Q)+'A, E =', str(round(dataMS.loc[i, 'omega'], 3))+'meV .....')\n",
    "\n",
    "    # create simulation and run\n",
    "    sim = MS_sim(geom, mus, S_files, dataMS.ki.loc[i], dataMS.kf.loc[i], dataMS.theta.loc[i])\n",
    "    sim.run(N=10000, B=5)\n",
    "\n",
    "    # save results\n",
    "    dataMS.loc[i,'Is'] = sim.Is\n",
    "    dataMS.loc[i,'Im'] = sim.Im"
   ]
  },
  {
   "cell_type": "code",
   "execution_count": 49,
   "metadata": {},
   "outputs": [
    {
     "name": "stdout",
     "output_type": "stream",
     "text": [
      "point 52 / 52\n",
      "simulating Q = 1.1A, E = 28meV .....\n"
     ]
    }
   ],
   "source": [
    "for i in dataMS_test1.index:\n",
    "    # print progress\n",
    "    clear_output()\n",
    "    print('point', i+1, '/', dataMS_test1.shape[0])\n",
    "    print('simulating Q =', str(Q)+'A, E =', str(round(dataMS_test1.loc[i, 'omega'], 3))+'meV .....')\n",
    "\n",
    "    # create simulation and run\n",
    "    sim = MS_sim(geom, mus, S_files_test1, dataMS_test1.ki.loc[i], dataMS_test1.kf.loc[i], dataMS_test1.theta.loc[i])\n",
    "    sim.run(N=10000, B=5)\n",
    "\n",
    "    # save results\n",
    "    dataMS_test1.loc[i,'Is'] = sim.Is\n",
    "    dataMS_test1.loc[i,'Im'] = sim.Im"
   ]
  },
  {
   "cell_type": "code",
   "execution_count": 50,
   "metadata": {},
   "outputs": [
    {
     "name": "stdout",
     "output_type": "stream",
     "text": [
      "point 52 / 52\n",
      "simulating Q = 1.1A, E = 28meV .....\n"
     ]
    }
   ],
   "source": [
    "for i in dataMS_test2.index:\n",
    "    # print progress\n",
    "    clear_output()\n",
    "    print('point', i+1, '/', dataMS_test2.shape[0])\n",
    "    print('simulating Q =', str(Q)+'A, E =', str(round(dataMS_test2.loc[i, 'omega'], 3))+'meV .....')\n",
    "\n",
    "    # create simulation and run\n",
    "    sim = MS_sim(geom, mus, S_files_test2, dataMS_test2.ki.loc[i], dataMS_test2.kf.loc[i], dataMS_test2.theta.loc[i])\n",
    "    sim.run(N=10000, B=5)\n",
    "\n",
    "    # save results\n",
    "    dataMS_test2.loc[i,'Is'] = sim.Is\n",
    "    dataMS_test2.loc[i,'Im'] = sim.Im"
   ]
  },
  {
   "cell_type": "code",
   "execution_count": 51,
   "metadata": {},
   "outputs": [
    {
     "name": "stdout",
     "output_type": "stream",
     "text": [
      "point 52 / 52\n",
      "simulating Q = 1.1A, E = 28meV .....\n"
     ]
    }
   ],
   "source": [
    "for i in dataMS_test3.index:\n",
    "    # print progress\n",
    "    clear_output()\n",
    "    print('point', i+1, '/', dataMS_test3.shape[0])\n",
    "    print('simulating Q =', str(Q)+'A, E =', str(round(dataMS_test3.loc[i, 'omega'], 3))+'meV .....')\n",
    "\n",
    "    # create simulation and run\n",
    "    sim = MS_sim(geom, mus, S_files_test3, dataMS_test3.ki.loc[i], dataMS_test3.kf.loc[i], dataMS_test3.theta.loc[i])\n",
    "    sim.run(N=10000, B=5)\n",
    "\n",
    "    # save results\n",
    "    dataMS_test3.loc[i,'Is'] = sim.Is\n",
    "    dataMS_test3.loc[i,'Im'] = sim.Im"
   ]
  },
  {
   "cell_type": "code",
   "execution_count": 52,
   "metadata": {},
   "outputs": [
    {
     "name": "stdout",
     "output_type": "stream",
     "text": [
      "point 52 / 52\n",
      "simulating Q = 1.1A, E = 28meV .....\n"
     ]
    }
   ],
   "source": [
    "for i in dataMS_test4.index:\n",
    "    # print progress\n",
    "    clear_output()\n",
    "    print('point', i+1, '/', dataMS_test4.shape[0])\n",
    "    print('simulating Q =', str(Q)+'A, E =', str(round(dataMS_test4.loc[i, 'omega'], 3))+'meV .....')\n",
    "\n",
    "    # create simulation and run\n",
    "    sim = MS_sim(geom, mus, S_files_test4, dataMS_test4.ki.loc[i], dataMS_test4.kf.loc[i], dataMS_test4.theta.loc[i])\n",
    "    sim.run(N=10000, B=5)\n",
    "\n",
    "    # save results\n",
    "    dataMS_test4.loc[i,'Is'] = sim.Is\n",
    "    dataMS_test4.loc[i,'Im'] = sim.Im"
   ]
  },
  {
   "cell_type": "code",
   "execution_count": 53,
   "metadata": {},
   "outputs": [],
   "source": [
    "domega_sim = dataMS.omega.iloc[1]-dataMS.omega.iloc[0]\n",
    "domega_sim_test1 = dataMS_test1.omega.iloc[1]-dataMS_test1.omega.iloc[0]\n",
    "domega_sim_test2 = dataMS_test2.omega.iloc[1]-dataMS_test2.omega.iloc[0]\n",
    "domega_sim_test3 = dataMS_test3.omega.iloc[1]-dataMS_test3.omega.iloc[0]\n",
    "domega_sim_test4 = dataMS_test4.omega.iloc[1]-dataMS_test4.omega.iloc[0]"
   ]
  },
  {
   "cell_type": "code",
   "execution_count": 56,
   "metadata": {},
   "outputs": [
    {
     "data": {
      "image/png": "[encoded data removed]",
      "text/plain": [
       "<Figure size 1000x500 with 1 Axes>"
      ]
     },
     "metadata": {},
     "output_type": "display_data"
    },
    {
     "data": {
      "image/png": "[encoded data removed]",
      "text/plain": [
       "<Figure size 1000x500 with 1 Axes>"
      ]
     },
     "metadata": {},
     "output_type": "display_data"
    }
   ],
   "source": [
    "plt.figure(figsize=(10, 5))\n",
    "\n",
    "plt.plot(dataMS.omega, dataMS.Im/(((dataMS.Is+dataMS.Im)).sum()*domega_sim), label='Im')\n",
    "plt.plot(dataMS_test1.omega, dataMS_test1.Im/(((dataMS_test1.Is+dataMS_test1.Im)).sum()*domega_sim_test1), label='Im test1')\n",
    "plt.plot(dataMS_test2.omega, dataMS_test2.Im/(((dataMS_test2.Is+dataMS_test2.Im)).sum()*domega_sim_test2), label='Im test2')\n",
    "plt.plot(dataMS_test3.omega, dataMS_test3.Im/(((dataMS_test3.Is+dataMS_test3.Im)).sum()*domega_sim_test3), label='Im test3')\n",
    "plt.plot(dataMS_test4.omega, dataMS_test4.Im/(((dataMS_test4.Is+dataMS_test4.Im)).sum()*domega_sim_test4), label='Im test4')\n",
    "\n",
    "plt.plot(dataMS.omega, (dataMS.Im+dataMS.Is)/(((dataMS.Is+dataMS.Im)).sum()*domega_sim), label='Is+Im')\n",
    "plt.plot(dataMS_test1.omega, (dataMS_test1.Is+dataMS_test1.Im)/(((dataMS_test1.Is+dataMS_test1.Im)).sum()*domega_sim_test1), label='Is+Im test1')\n",
    "plt.plot(dataMS_test2.omega, (dataMS_test2.Is+dataMS_test2.Im)/(((dataMS_test2.Is+dataMS_test2.Im)).sum()*domega_sim_test2), label='Is+Im test2')\n",
    "plt.plot(dataMS_test3.omega, (dataMS_test3.Is+dataMS_test3.Im)/(((dataMS_test3.Is+dataMS_test3.Im)).sum()*domega_sim_test3), label='Is+Im test3')\n",
    "plt.plot(dataMS_test4.omega, (dataMS_test4.Is+dataMS_test4.Im)/(((dataMS_test4.Is+dataMS_test4.Im)).sum()*domega_sim_test4), label='Is+Im test4')\n",
    "\n",
    "plt.xlabel('omega [meV]')\n",
    "plt.legend()\n",
    "#plt.ylim(0,0.03)\n",
    "plt.show()\n",
    "\n",
    "\n",
    "plt.figure(figsize=(10, 5))\n",
    "plt.plot(dataMS.omega, dataMS.Im/(((dataMS.Is+dataMS.Im)).sum()*domega_sim), label='Im')\n",
    "plt.plot(dataMS_test1.omega, dataMS_test1.Im/(((dataMS_test1.Is+dataMS_test1.Im)).sum()*domega_sim_test1), label='Im test1')\n",
    "plt.plot(dataMS_test2.omega, dataMS_test2.Im/(((dataMS_test2.Is+dataMS_test2.Im)).sum()*domega_sim_test2), label='Im test2')\n",
    "plt.plot(dataMS_test3.omega, dataMS_test3.Im/(((dataMS_test3.Is+dataMS_test3.Im)).sum()*domega_sim_test3), label='Im test3')\n",
    "plt.plot(dataMS_test4.omega, dataMS_test4.Im/(((dataMS_test4.Is+dataMS_test4.Im)).sum()*domega_sim_test4), label='Im test4')\n",
    "\n",
    "plt.xlabel('omega [meV]')\n",
    "plt.ylim(0)\n",
    "plt.legend()\n",
    "plt.show()"
   ]
  },
  {
   "cell_type": "code",
   "execution_count": null,
   "metadata": {},
   "outputs": [],
   "source": []
  },
  {
   "cell_type": "code",
   "execution_count": null,
   "metadata": {},
   "outputs": [],
   "source": []
  }
 ],
 "metadata": {
  "kernelspec": {
   "display_name": "scienv",
   "language": "python",
   "name": "python3"
  },
  "language_info": {
   "codemirror_mode": {
    "name": "ipython",
    "version": 3
   },
   "file_extension": ".py",
   "mimetype": "text/x-python",
   "name": "python",
   "nbconvert_exporter": "python",
   "pygments_lexer": "ipython3",
   "version": "3.12.8"
  }
 },
 "nbformat": 4,
 "nbformat_minor": 2
}
